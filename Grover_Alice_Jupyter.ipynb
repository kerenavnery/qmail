{
 "cells": [
  {
   "cell_type": "markdown",
   "metadata": {},
   "source": [
    "<h1>Multiparty Grover Algorithm with Separated Oracle</h1>\n",
    "<h3 style=\"text-align: left;\">This is<em> Alice's</em> side of the communication protocol.</h3>\n",
    "<h4><span style=\"color: #ff0000;\">It has to be executed second.</span></h4>\n",
    "<p style=\"text-align: left;\">This simulation demonstrates multiparty computation over a quantum network. In this case Alice wants to query a confidential database is hold by Oscar. Oscar will not give his database, but he can reveal her query via Grover Algorithm by implementing Grover Oracle by himself.</p>\n",
    "\n",
    "Here Alice prepare an equal superposition of quantum states. Then, she sends it to Oscar and recieves back her qubits. Afterwards she implements the diffusion operator and her measurement outcome will reveal her query."
   ]
  },
  {
   "cell_type": "markdown",
   "metadata": {},
   "source": [
    "<h3 style=\"text-align: left;\">Importing the required libraries</h3>"
   ]
  },
  {
   "cell_type": "code",
   "execution_count": 1,
   "metadata": {},
   "outputs": [],
   "source": [
    "import Protocols"
   ]
  },
  {
   "cell_type": "markdown",
   "metadata": {},
   "source": [
    "<h3 style=\"text-align: left;\">Settings for the communication</h3>\n",
    "The following lines contain the settings for the communication. Here ALICE_ADDR should be replaced to the physical IP adress of Alice computer. Similarly, BOB_ADDR needs to be replaced by his physical IP adress.\n",
    "The Ports could be choosen arbitrarily, but the ports need to be free. Hence, the kernel needs to be restarted for every run."
   ]
  },
  {
   "cell_type": "code",
   "execution_count": 2,
   "metadata": {},
   "outputs": [],
   "source": [
    "ALICE_ADDR = 'localhost'\n",
    "OSCAR_ADDR = 'localhost'\n",
    "ALICE_PORT = 5008\n",
    "OSCAR_PORT = 5009"
   ]
  },
  {
   "cell_type": "markdown",
   "metadata": {},
   "source": [
    "<h3 style=\"text-align: left;\">Main function</h3>\n",
    "This is Alice querying the data 01 from Oscars database."
   ]
  },
  {
   "cell_type": "code",
   "execution_count": 3,
   "metadata": {},
   "outputs": [],
   "source": [
    "def main():\n",
    "  # prepare message\n",
    "\n",
    "  Protocols.multiparty_2grover_local( ALICE_PORT, OSCAR_PORT )\n",
    "\n",
    "  pass"
   ]
  },
  {
   "cell_type": "code",
   "execution_count": 4,
   "metadata": {},
   "outputs": [
    {
     "name": "stdout",
     "output_type": "stream",
     "text": [
      "Alice creates state |00>\n",
      "Running on port = 5008\n",
      "Alice send qubits to Oscar, quering the database\n",
      "Alice receives qubits, apply diffusion operator, and measure\n",
      "Wait to receive\n",
      "Alice measurement outcome 01\n"
     ]
    }
   ],
   "source": [
    "if __name__ == \"__main__\":\n",
    "  main()"
   ]
  },
  {
   "cell_type": "code",
   "execution_count": null,
   "metadata": {},
   "outputs": [],
   "source": []
  }
 ],
 "metadata": {
  "kernelspec": {
   "display_name": "Python 3",
   "language": "python",
   "name": "python3"
  },
  "language_info": {
   "codemirror_mode": {
    "name": "ipython",
    "version": 3
   },
   "file_extension": ".py",
   "mimetype": "text/x-python",
   "name": "python",
   "nbconvert_exporter": "python",
   "pygments_lexer": "ipython3",
   "version": "3.7.4"
  }
 },
 "nbformat": 4,
 "nbformat_minor": 2
}
