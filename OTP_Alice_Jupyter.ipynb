{
 "cells": [
  {
   "cell_type": "markdown",
   "metadata": {},
   "source": [
    "<h1>qmail -&nbsp; A Quantum Mail Client</h1>\n",
    "<h3 style=\"text-align: left;\">This is<em> Alice's</em> side of the communication protocol.</h3>\n",
    "<h4><span style=\"color: #ff0000;\">It has to be executed second.</span></h4>\n",
    "<p style=\"text-align: left;\">This Quantum Mail Client could send messages from Alice to Bob encrypted in qubits. Additionally, it allows to simulate an evil third party, Eve. The code simulate what message Eve would recieve if she does not know the key. The required functions are implemented in the library Protocols.</p>"
   ]
  },
  {
   "cell_type": "markdown",
   "metadata": {},
   "source": [
    "<h3 style=\"text-align: left;\">Importing the required libraries</h3>"
   ]
  },
  {
   "cell_type": "code",
   "execution_count": 1,
   "metadata": {},
   "outputs": [],
   "source": [
    "import Protocols"
   ]
  },
  {
   "cell_type": "markdown",
   "metadata": {},
   "source": [
    "<h3 style=\"text-align: left;\">Settings for the communication</h3>\n",
    "The following lines contain the settings for the communication. Here ALICE_ADDR should be replaced to the physical IP adress of Alice computer. Similarly, BOB_ADDR needs to be replaced by his physical IP adress.\n",
    "The Ports could be choosen arbitrarily, but the ports need to be free. Hence, the kernel needs to be restarted for every run."
   ]
  },
  {
   "cell_type": "code",
   "execution_count": 2,
   "metadata": {},
   "outputs": [],
   "source": [
    "ALICE_ADDR = 'localhost'\n",
    "BOB_ADDR = 'localhost'\n",
    "ALICE_PORT = 5005\n",
    "BOB_PORT = 5006"
   ]
  },
  {
   "cell_type": "markdown",
   "metadata": {},
   "source": [
    "<h3 style=\"text-align: left;\">Main function</h3>\n",
    "\n",
    "This is the main function, which requires the above specified settings. The adversary variable denotes whether Eve or Bob is listening. It is true for Eve and False for Bob."
   ]
  },
  {
   "cell_type": "code",
   "execution_count": 3,
   "metadata": {},
   "outputs": [],
   "source": [
    "def main():\n",
    "  # prepare message\n",
    "  message = \"Hello Qiskit!\"\n",
    "\n",
    "  Protocols.send_a_qmail(message, ALICE_PORT, BOB_ADDR, BOB_PORT)\n",
    "\n",
    "  pass"
   ]
  },
  {
   "cell_type": "code",
   "execution_count": 4,
   "metadata": {},
   "outputs": [
    {
     "name": "stdout",
     "output_type": "stream",
     "text": [
      "Alice wants to send Hello Qiskit!\n",
      "Running on port = 5015generating key...\n",
      "X-encryption key 1110010111001110100111001010011110000000110111111101010001110100100010001110111000000011100101110011010 Z-encryption key 10101001000010101000100011111111010100010000110001000011101111010110101001011100010110000001100111010101\n",
      "\n",
      "I am Alice I sent: {'x': '1110010111001110100111001010011110000000110111111101010001110100100010001110111000000011100101110011010', 'z': '10101001000010101000100011111111010100010000110001000011101111010110101001011100010110000001100111010101'}\n",
      "Running on port = 5005Performing QOTP for string 0100\n",
      "\n",
      "Performing QOTP for string 1000\n",
      "Performing QOTP for string 0110\n",
      "Performing QOTP for string 0101\n",
      "Performing QOTP for string 0110\n",
      "Performing QOTP for string 1100\n",
      "Performing QOTP for string 0110\n",
      "Performing QOTP for string 1100\n",
      "Performing QOTP for string 0110\n",
      "Performing QOTP for string 1111\n",
      "Performing QOTP for string 0010\n",
      "Performing QOTP for string 0000\n",
      "Performing QOTP for string 0101\n",
      "Performing QOTP for string 0001\n",
      "Performing QOTP for string 0110\n",
      "Performing QOTP for string 1001\n",
      "Performing QOTP for string 0111\n",
      "Performing QOTP for string 0011\n",
      "Performing QOTP for string 0110\n",
      "Performing QOTP for string 1011\n",
      "Performing QOTP for string 0110\n",
      "Performing QOTP for string 1001\n",
      "Performing QOTP for string 0111\n",
      "Performing QOTP for string 0100\n",
      "Performing QOTP for string 0010\n",
      "Performing QOTP for string 0001\n",
      "Transmission complete.\n"
     ]
    }
   ],
   "source": [
    "if __name__ == \"__main__\":\n",
    "  main()"
   ]
  }
 ],
 "metadata": {
  "kernelspec": {
   "display_name": "Python 3",
   "language": "python",
   "name": "python3"
  },
  "language_info": {
   "codemirror_mode": {
    "name": "ipython",
    "version": 3
   },
   "file_extension": ".py",
   "mimetype": "text/x-python",
   "name": "python",
   "nbconvert_exporter": "python",
   "pygments_lexer": "ipython3",
   "version": "3.7.4"
  }
 },
 "nbformat": 4,
 "nbformat_minor": 2
}
