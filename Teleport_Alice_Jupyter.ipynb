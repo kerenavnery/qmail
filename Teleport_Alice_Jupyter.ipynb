{
 "cells": [
  {
   "cell_type": "markdown",
   "metadata": {},
   "source": [
    "<h1>Quantum Teleportation</h1>\n",
    "<h3 style=\"text-align: left;\">This is<em> Alices's</em> side of the quantum teleportation protocol.</h3>\n",
    "<h4><span style=\"color: #ff0000;\">It has to be executed second.</span></h4>\n",
    "<p style=\"text-align: left;\">The general procedure is: Alice prepares the Bell state, does here part of the teleportation protocol and sends these qubits to Bob.</p>\n",
    "<p style=\"text-align: left;\">Bob then needs to do the controlled gates on his qubits. As qiskit does not support measurements within the middle of the program, the controlled gates also need to be done via quantum communication.</p>\n",
    "<p style=\"text-align: left;\">For the communication we introduce two channel qubits, qubit 2 and 3. Alice prepared state is on qubit 0, the shared Bell state is on qubits 1 and 4.</p>"
   ]
  },
  {
   "cell_type": "code",
   "execution_count": null,
   "metadata": {},
   "outputs": [],
   "source": []
  },
  {
   "cell_type": "code",
   "execution_count": 1,
   "metadata": {},
   "outputs": [],
   "source": [
    "from qiskit import *\n",
    "\n",
    "from channel_class import Channel"
   ]
  },
  {
   "cell_type": "markdown",
   "metadata": {},
   "source": [
    "<h3 style=\"text-align: left;\">Initialisation</h3>\n",
    "In the following is the configuration of the overall protocoll. \n",
    "In the future, it should be possible to omit this."
   ]
  },
  {
   "cell_type": "code",
   "execution_count": 2,
   "metadata": {},
   "outputs": [],
   "source": [
    "n_master = 2  # two qubits, the one on alice side\n",
    "n_channel = 2\n",
    "n_slave = 1 # two quantum channels and one qubit on bobs side\n",
    "slave_offset = n_master"
   ]
  },
  {
   "cell_type": "code",
   "execution_count": 3,
   "metadata": {},
   "outputs": [
    {
     "name": "stdout",
     "output_type": "stream",
     "text": [
      "RUNNNN... port = 5000\n"
     ]
    }
   ],
   "source": [
    "channel = Channel(slave_offset, 5000, remote_port = 5001)"
   ]
  },
  {
   "cell_type": "markdown",
   "metadata": {},
   "source": [
    "<h3 style=\"text-align: left;\">Preparation of the initial state</h3>"
   ]
  },
  {
   "cell_type": "code",
   "execution_count": 4,
   "metadata": {},
   "outputs": [
    {
     "data": {
      "text/plain": [
       "<qiskit.circuit.instructionset.InstructionSet at 0x7f53013c4d10>"
      ]
     },
     "execution_count": 4,
     "metadata": {},
     "output_type": "execute_result"
    }
   ],
   "source": [
    "#create a Quantum circuit\n",
    "circ = QuantumCircuit(n_master + n_channel + n_slave)\n",
    "\n",
    "## Master, Oracle\n",
    "circ.rx(0.234,0 + channel._offset)\n",
    "circ.rz(0.54,0 + channel._offset)\n",
    "circ.ry(0.94,0 + channel._offset)\n",
    "circ.rx(0.1,0 + channel._offset)"
   ]
  },
  {
   "cell_type": "markdown",
   "metadata": {},
   "source": [
    "<h3 style=\"text-align: left;\">Preparation of the Bell state</h3>"
   ]
  },
  {
   "cell_type": "code",
   "execution_count": 5,
   "metadata": {},
   "outputs": [
    {
     "data": {
      "text/plain": [
       "<qiskit.circuit.instructionset.InstructionSet at 0x7f53013c4850>"
      ]
     },
     "execution_count": 5,
     "metadata": {},
     "output_type": "execute_result"
    }
   ],
   "source": [
    "## Creating Entaglement now on Bobs side\n",
    "circ.h(1+channel._offset)\n",
    "circ.cx(1+channel._offset,4+channel._offset)"
   ]
  },
  {
   "cell_type": "markdown",
   "metadata": {},
   "source": [
    "<h3 style=\"text-align: left;\">Teleportation Protocol</h3>"
   ]
  },
  {
   "cell_type": "code",
   "execution_count": 6,
   "metadata": {},
   "outputs": [
    {
     "data": {
      "text/plain": [
       "<qiskit.circuit.instructionset.InstructionSet at 0x7f53013dc750>"
      ]
     },
     "execution_count": 6,
     "metadata": {},
     "output_type": "execute_result"
    }
   ],
   "source": [
    "## Master, teleportation protocol\n",
    "circ.cx(0 + channel._offset, 1  + channel._offset)\n",
    "circ.h(0 + channel._offset)"
   ]
  },
  {
   "cell_type": "code",
   "execution_count": 7,
   "metadata": {},
   "outputs": [
    {
     "data": {
      "text/plain": [
       "<qiskit.circuit.instructionset.InstructionSet at 0x7f53013e0190>"
      ]
     },
     "execution_count": 7,
     "metadata": {},
     "output_type": "execute_result"
    }
   ],
   "source": [
    "## Write the result on the communication qubits, this should be done with classical communication at some point\n",
    "circ.cx(0 + channel._offset, 2  + channel._offset)\n",
    "circ.cx(1 + channel._offset, 3  + channel._offset)\n"
   ]
  },
  {
   "cell_type": "markdown",
   "metadata": {},
   "source": [
    "<h3 style=\"text-align: left;\">Send Qubits</h3>"
   ]
  },
  {
   "cell_type": "code",
   "execution_count": 8,
   "metadata": {},
   "outputs": [
    {
     "data": {
      "image/png": "[encoded data removed]",
      "text/plain": [
       "<Figure size 577.92x325.08 with 1 Axes>"
      ]
     },
     "execution_count": 8,
     "metadata": {},
     "output_type": "execute_result"
    }
   ],
   "source": [
    "## Alice sends here qubits to Bob\n",
    "channel.send(circ,[1])  ## TODO: remove\n",
    "\n",
    "## The circuit how it looks on Alice side\n",
    "circ.draw()"
   ]
  }
 ],
 "metadata": {
  "kernelspec": {
   "display_name": "Python 3",
   "language": "python",
   "name": "python3"
  },
  "language_info": {
   "codemirror_mode": {
    "name": "ipython",
    "version": 3
   },
   "file_extension": ".py",
   "mimetype": "text/x-python",
   "name": "python",
   "nbconvert_exporter": "python",
   "pygments_lexer": "ipython3",
   "version": "3.7.4"
  }
 },
 "nbformat": 4,
 "nbformat_minor": 2
}
