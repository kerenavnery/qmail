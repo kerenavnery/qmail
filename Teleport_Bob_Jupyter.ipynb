{
 "cells": [
  {
   "cell_type": "markdown",
   "metadata": {},
   "source": [
    "<h1>Quantum Teleportation</h1>\n",
    "<h3 style=\"text-align: left;\">This is<em> Bob's</em> side of the quantum teleportation protocol.</h3>\n",
    "<h4><span style=\"color: #ff0000;\">It has to be executed first.</span></h4>\n",
    "<p style=\"text-align: left;\">The general procedure is: Alice prepares the Bell state, does here part of the teleportation protocol and sends these qubits to Bob.</p>\n",
    "<p style=\"text-align: left;\">Bob then needs to do the controlled gates on his qubits. As qiskit does not support measurements within the middle of the program, the controlled gates also need to be done via quantum communication.</p>\n",
    "<p style=\"text-align: left;\">For the communication we introduce two channel qubits, qubit 2 and 3. Alice prepared state is on qubit 0, the shared Bell state is on qubits 1 and 4.</p>"
   ]
  },
  {
   "cell_type": "code",
   "execution_count": 1,
   "metadata": {},
   "outputs": [],
   "source": [
    "# needed qiskit library\n",
    "from qiskit import *\n",
    "%matplotlib inline\n",
    "\n",
    "# the channel library providing the class Channel handling the communication\n",
    "from channel_class import Channel"
   ]
  },
  {
   "cell_type": "markdown",
   "metadata": {},
   "source": [
    "<h3 style=\"text-align: left;\">Initialisation</h3>\n",
    "In the following is the configuration of the overall protocoll. In the future, it should be possible to omit this."
   ]
  },
  {
   "cell_type": "code",
   "execution_count": 2,
   "metadata": {},
   "outputs": [],
   "source": [
    "#Bob needs to know the number of qubits, n_master: number of Alice qubits, n_slave: number of Bobs qubits\n",
    "n_master = 2 \n",
    "n_channel = 2\n",
    "n_slave = 1"
   ]
  },
  {
   "cell_type": "code",
   "execution_count": 3,
   "metadata": {},
   "outputs": [
    {
     "name": "stdout",
     "output_type": "stream",
     "text": [
      "RUNNNN... port = 5001\n"
     ]
    }
   ],
   "source": [
    "#initialise the Quantum Channel, Bobs port is 5001, Alice port is 5000\n",
    "bob_channel = Channel(myport = 5001, remote_port = 5000)"
   ]
  },
  {
   "cell_type": "markdown",
   "metadata": {},
   "source": [
    "If Bob likes to do gates before Alice sends him something, he needs to create the circuit this way and could act on his qubits, which are [0,1,2,..] + offset, were offset=n_master"
   ]
  },
  {
   "cell_type": "code",
   "execution_count": 4,
   "metadata": {},
   "outputs": [],
   "source": [
    "#initialise Bobs circuit\n",
    "circ_bob = QuantumCircuit(n_master + n_channel + n_slave)"
   ]
  },
  {
   "cell_type": "markdown",
   "metadata": {},
   "source": [
    "<h3 style=\"text-align: left;\">Receive Qubits from Alice</h3>"
   ]
  },
  {
   "cell_type": "code",
   "execution_count": 5,
   "metadata": {},
   "outputs": [
    {
     "name": "stdout",
     "output_type": "stream",
     "text": [
      "Wait to receive\n",
      "SocketChannel: the buff is empty, waiting...\n",
      "SocketChannel: the buff is empty, waiting...\n",
      "SocketChannel: the buff is empty, waiting...\n",
      "SocketChannel: the buff is empty, waiting...\n",
      "SocketChannel: the buff is empty, waiting...\n",
      "SocketChannel: the buff is empty, waiting...\n",
      "SocketChannel: the buff is empty, waiting...\n",
      "SocketChannel: the buff is empty, waiting...\n",
      "SocketChannel: the buff is empty, waiting...\n",
      "SocketChannel: the buff is empty, waiting...\n",
      "SocketChannel: the buff is empty, waiting...\n",
      "SocketChannel: the buff is empty, waiting...\n",
      "b'\\x80\\x03}q\\x00(X\\x0c\\x00\\x00\\x00state_vectorq\\x01cqiskit.quantum_info.states.statevector\\nStatevector\\nq\\x02)\\x81q\\x03}q\\x04(X\\x04\\x00\\x00\\x00_repq\\x05X\\x0b\\x00\\x00\\x00Statevectorq\\x06X\\x05\\x00\\x00\\x00_dataq\\x07cnumpy.core.multiarray\\n_reconstruct\\nq\\x08cnumpy\\nndarray\\nq\\tK\\x00\\x85q\\nC\\x01bq\\x0b\\x87q\\x0cRq\\r(K\\x01K \\x85q\\x0ecnumpy\\ndtype\\nq\\x0fX\\x03\\x00\\x00\\x00c16q\\x10K\\x00K\\x01\\x87q\\x11Rq\\x12(K\\x03X\\x01\\x00\\x00\\x00<q\\x13NNNJ\\xff\\xff\\xff\\xffJ\\xff\\xff\\xff\\xffK\\x00tq\\x14b\\x89B\\x00\\x02\\x00\\x00jr\\x073\\xcbI\\xdb?\\x9d0\\xb7v\\xcf\\x9d\\x84?\\x00\\x00\\x00\\x00\\x00\\x00\\x00\\x00\\x00\\x00\\x00\\x00\\x00\\x00\\x00\\x00\\x00\\x00\\x00\\x00\\x00\\x00\\x00\\x00\\x00\\x00\\x00\\x00\\x00\\x00\\x00\\x00\\x00\\x00\\x00\\x00\\x00\\x00\\x00\\x00\\x00\\x00\\x00\\x00\\x00\\x00\\x00\\x00\\x00\\x00\\x00\\x00\\x00\\x00\\x00\\x00\\x00\\x00\\x00\\x00\\x00\\x00\\x00\\x00jr\\x073\\xcbI\\xdb?\\x9d0\\xb7v\\xcf\\x9d\\x84?\\x00\\x00\\x00\\x00\\x00\\x00\\x00\\x00\\x00\\x00\\x00\\x00\\x00\\x00\\x00\\x00\\x00\\x00\\x00\\x00\\x00\\x00\\x00\\x00\\x00\\x00\\x00\\x00\\x00\\x00\\x00\\x00\\x00\\x00\\x00\\x00\\x00\\x00\\x00\\x00\\x00\\x00\\x00\\x00\\x00\\x00\\x00\\x00\\x00\\x00\\x00\\x00\\x00\\x00\\x00\\x00\\x00\\x00\\x00\\x00\\x00\\x00\\x00\\x00F_\\xccNp(\\xd0?\\xdc\\xd7\\xc8\\x80\\x12\\xe7\\xb0\\xbf\\x00\\x00\\x00\\x00\\x00\\x00\\x00\\x00\\x00\\x00\\x00\\x00\\x00\\x00\\x00\\x00\\x00\\x00\\x00\\x00\\x00\\x00\\x00\\x00\\x00\\x00\\x00\\x00\\x00\\x00\\x00\\x00\\x00\\x00\\x00\\x00\\x00\\x00\\x00\\x00\\x00\\x00\\x00\\x00\\x00\\x00\\x00\\x00\\x00\\x00\\x00\\x00\\x00\\x00\\x00\\x00\\x00\\x00\\x00\\x00\\x00\\x00\\x00\\x00F_\\xccNp(\\xd0\\xbf\\xdc\\xd7\\xc8\\x80\\x12\\xe7\\xb0?F_\\xccNp(\\xd0?\\xdc\\xd7\\xc8\\x80\\x12\\xe7\\xb0\\xbf\\x00\\x00\\x00\\x00\\x00\\x00\\x00\\x00\\x00\\x00\\x00\\x00\\x00\\x00\\x00\\x00\\x00\\x00\\x00\\x00\\x00\\x00\\x00\\x00\\x00\\x00\\x00\\x00\\x00\\x00\\x00\\x00\\x00\\x00\\x00\\x00\\x00\\x00\\x00\\x00\\x00\\x00\\x00\\x00\\x00\\x00\\x00\\x00\\x00\\x00\\x00\\x00\\x00\\x00\\x00\\x00\\x00\\x00\\x00\\x00\\x00\\x00\\x00\\x00F_\\xccNp(\\xd0\\xbf\\xdc\\xd7\\xc8\\x80\\x12\\xe7\\xb0?\\x00\\x00\\x00\\x00\\x00\\x00\\x00\\x00\\x00\\x00\\x00\\x00\\x00\\x00\\x00\\x00\\x00\\x00\\x00\\x00\\x00\\x00\\x00\\x00\\x00\\x00\\x00\\x00\\x00\\x00\\x00\\x00\\x00\\x00\\x00\\x00\\x00\\x00\\x00\\x00\\x00\\x00\\x00\\x00\\x00\\x00\\x00\\x00\\x00\\x00\\x00\\x00\\x00\\x00\\x00\\x00\\x00\\x00\\x00\\x00\\x00\\x00\\x00\\x00jr\\x073\\xcbI\\xdb?\\x9d0\\xb7v\\xcf\\x9d\\x84?\\x00\\x00\\x00\\x00\\x00\\x00\\x00\\x00\\x00\\x00\\x00\\x00\\x00\\x00\\x00\\x00\\x00\\x00\\x00\\x00\\x00\\x00\\x00\\x00\\x00\\x00\\x00\\x00\\x00\\x00\\x00\\x00\\x00\\x00\\x00\\x00\\x00\\x00\\x00\\x00\\x00\\x00\\x00\\x00\\x00\\x00\\x00\\x00\\x00\\x00\\x00\\x00\\x00\\x00\\x00\\x00\\x00\\x00\\x00\\x00\\x00\\x00\\x00\\x00jr\\x073\\xcbI\\xdb?\\x9d0\\xb7v\\xcf\\x9d\\x84?q\\x15tq\\x16bX\\x05\\x00\\x00\\x00_dimsq\\x17(K\\x02K\\x02K\\x02K\\x02K\\x02tq\\x18X\\x04\\x00\\x00\\x00_dimq\\x19cnumpy.core.multiarray\\nscalar\\nq\\x1ah\\x0fX\\x02\\x00\\x00\\x00i8q\\x1bK\\x00K\\x01\\x87q\\x1cRq\\x1d(K\\x03h\\x13NNNJ\\xff\\xff\\xff\\xffJ\\xff\\xff\\xff\\xffK\\x00tq\\x1ebC\\x08 \\x00\\x00\\x00\\x00\\x00\\x00\\x00q\\x1f\\x86q Rq!ubX\\t\\x00\\x00\\x00is_masterq\"\\x88X\\x0c\\x00\\x00\\x00slave_offsetq#K\\x02X\\x07\\x00\\x00\\x00circuitq$cqiskit.circuit.quantumcircuit\\nQuantumCircuit\\nq%)\\x81q&}q\\'(X\\x04\\x00\\x00\\x00nameq(X\\x08\\x00\\x00\\x00circuit0q)X\\x04\\x00\\x00\\x00dataq*]q+(cqiskit.extensions.standard.rx\\nRXGate\\nq,)\\x81q-}q.(X\\x06\\x00\\x00\\x00_labelq/Nh(X\\x02\\x00\\x00\\x00rxq0X\\n\\x00\\x00\\x00num_qubitsq1K\\x01X\\n\\x00\\x00\\x00num_clbitsq2K\\x00X\\x07\\x00\\x00\\x00_paramsq3]q4csympy.core.numbers\\nFloat\\nq5(K\\x00X\\x0e\\x00\\x00\\x001df3b645a1cac1q6J\\xc9\\xff\\xff\\xffK5tq7\\x85q8Rq9}q:X\\x05\\x00\\x00\\x00_precq;K5sbaX\\x07\\x00\\x00\\x00controlq<NX\\x0b\\x00\\x00\\x00_definitionq=Nub]q>cqiskit.circuit.quantumregister\\nQubit\\nq?)\\x81q@}qA(X\\x08\\x00\\x00\\x00registerqBcqiskit.circuit.quantumregister\\nQuantumRegister\\nqC)\\x81qD}qE(h(X\\x01\\x00\\x00\\x00qqFX\\x04\\x00\\x00\\x00sizeqGK\\x05X\\x05\\x00\\x00\\x00_bitsqH]qI(h@h?)\\x81qJ}qK(hBhDX\\x05\\x00\\x00\\x00indexqLK\\x01ubh?)\\x81qM}qN(hBhDhLK\\x02ubh?)\\x81qO}qP(hBhDhLK\\x03ubh?)\\x81qQ}qR(hBhDhLK\\x04ubeubhLK\\x00uba]qS\\x87qTcqiskit.extensions.standard.rz\\nRZGate\\nqU)\\x81qV}qW(h/Nh(X\\x02\\x00\\x00\\x00rzqXh1K\\x01h2K\\x00h3]qYh5(K\\x00X\\r\\x00\\x00\\x00228f5c28f5c29qZJ\\xce\\xff\\xff\\xffK2tq[\\x85q\\\\Rq]}q^h;K5sbah<Nh=Nub]q_h@a]q`\\x87qacqiskit.extensions.standard.ry\\nRYGate\\nqb)\\x81qc}qd(h/Nh(X\\x02\\x00\\x00\\x00ryqeh1K\\x01h2K\\x00h3]qfh5(K\\x00X\\r\\x00\\x00\\x007851eb851eb85qgJ\\xcd\\xff\\xff\\xffK3tqh\\x85qiRqj}qkh;K5sbah<Nh=Nub]qlh@a]qm\\x87qnh,)\\x81qo}qp(h/Nh(h0h1K\\x01h2K\\x00h3]qqh5(K\\x00X\\r\\x00\\x00\\x00ccccccccccccdqrJ\\xc9\\xff\\xff\\xffK4tqs\\x85qtRqu}qvh;K5sbah<Nh=Nub]qwh@a]qx\\x87qycqiskit.extensions.standard.h\\nHGate\\nqz)\\x81q{}q|(h/Nh(X\\x01\\x00\\x00\\x00hq}h1K\\x01h2K\\x00h3]q~h<Nh=Nub]q\\x7fhJa]q\\x80\\x87q\\x81cqiskit.extensions.standard.cx\\nCnotGate\\nq\\x82)\\x81q\\x83}q\\x84(h/Nh(X\\x02\\x00\\x00\\x00cxq\\x85h1K\\x02h2K\\x00h3]q\\x86h<Nh=Nub]q\\x87(hJhQe]q\\x88\\x87q\\x89h\\x82)\\x81q\\x8a}q\\x8b(h/Nh(h\\x85h1K\\x02h2K\\x00h3]q\\x8ch<Nh=Nub]q\\x8d(h@hJe]q\\x8e\\x87q\\x8fhz)\\x81q\\x90}q\\x91(h/Nh(h}h1K\\x01h2K\\x00h3]q\\x92h<Nh=Nub]q\\x93h@a]q\\x94\\x87q\\x95h\\x82)\\x81q\\x96}q\\x97(h/Nh(h\\x85h1K\\x02h2K\\x00h3]q\\x98h<Nh=Nub]q\\x99(h@hMe]q\\x9a\\x87q\\x9bh\\x82)\\x81q\\x9c}q\\x9d(h/Nh(h\\x85h1K\\x02h2K\\x00h3]q\\x9eh<Nh=Nub]q\\x9f(hJhOe]q\\xa0\\x87q\\xa1eX\\x05\\x00\\x00\\x00qregsq\\xa2]q\\xa3hDaX\\x05\\x00\\x00\\x00cregsq\\xa4]q\\xa5X\\x10\\x00\\x00\\x00_parameter_tableq\\xa6cqiskit.circuit.parametertable\\nParameterTable\\nq\\xa7)\\x81q\\xa8}q\\xa9X\\x06\\x00\\x00\\x00_tableq\\xaa}q\\xabsbX\\x07\\x00\\x00\\x00_layoutq\\xacNubu.'\n",
      "---\n",
      "received stuff \\o/\n"
     ]
    }
   ],
   "source": [
    "#Bob recieves the qubits from Alice and needs to give his computations up to then into the function\n",
    "#the function returns the circuit on which Bob continues to operate and an offset he has to add all the time\n",
    "circ_bob, offset = bob_channel.receive(circ_bob)"
   ]
  },
  {
   "cell_type": "markdown",
   "metadata": {},
   "source": [
    "<h3 style=\"text-align: left;\">Teleportation Protocol</h3>\n",
    "Bob has to do controlled gates on his qubit, where 0+offset and 1+offset are the communication qubits. 2+ offset is the qubit to which the state should be teleported to. "
   ]
  },
  {
   "cell_type": "code",
   "execution_count": 6,
   "metadata": {},
   "outputs": [
    {
     "data": {
      "text/plain": [
       "<qiskit.circuit.instructionset.InstructionSet at 0x7f5b81240f50>"
      ]
     },
     "execution_count": 6,
     "metadata": {},
     "output_type": "execute_result"
    }
   ],
   "source": [
    "# Bob does the controlled operations on his qubit (which is 0+offset) \n",
    "circ_bob.cx(1+offset,2+offset)\n",
    "circ_bob.cz(0+offset,2+offset)"
   ]
  },
  {
   "cell_type": "markdown",
   "metadata": {},
   "source": [
    "<h3 style=\"text-align: left;\">Check the Results</h3>\n",
    "To check, whether the right state was teleported, Bob undoes all the rotations Alice did in preparation of the state."
   ]
  },
  {
   "cell_type": "code",
   "execution_count": 7,
   "metadata": {},
   "outputs": [
    {
     "data": {
      "text/plain": [
       "<qiskit.circuit.instructionset.InstructionSet at 0x7f5b8130ed50>"
      ]
     },
     "execution_count": 7,
     "metadata": {},
     "output_type": "execute_result"
    }
   ],
   "source": [
    "# Bob undoes the rotations Alice did to check, whether the states are indeed the same\n",
    "circ_bob.rx(-0.1,2 + offset)\n",
    "circ_bob.ry(-0.94,2 + offset)\n",
    "circ_bob.rz(-0.54,2 + offset)\n",
    "circ_bob.rx(-0.234,2 + offset)"
   ]
  },
  {
   "cell_type": "code",
   "execution_count": 8,
   "metadata": {},
   "outputs": [
    {
     "data": {
      "image/png": "[encoded data removed]",
      "text/plain": [
       "<Figure size 878.92x325.08 with 1 Axes>"
      ]
     },
     "execution_count": 8,
     "metadata": {},
     "output_type": "execute_result"
    }
   ],
   "source": [
    "# The complete Circuit\n",
    "circ_bob.draw(output='mpl',filename='teleport_bob.png')"
   ]
  },
  {
   "cell_type": "markdown",
   "metadata": {},
   "source": [
    "Measurement of Bob's Qubit"
   ]
  },
  {
   "cell_type": "code",
   "execution_count": 9,
   "metadata": {},
   "outputs": [],
   "source": [
    "# Bob measure his qubit, if the teleportation worked, he undoes exactly what Alice did\n",
    "meas = QuantumCircuit(5,1)\n",
    "meas.barrier(range(5))\n",
    "meas.measure([4],range(1))\n",
    "qc = circ_bob + meas"
   ]
  },
  {
   "cell_type": "code",
   "execution_count": 10,
   "metadata": {},
   "outputs": [
    {
     "name": "stdout",
     "output_type": "stream",
     "text": [
      "{'0': 1024}\n"
     ]
    }
   ],
   "source": [
    "# The whole teleportation protocol is simulated\n",
    "backend_sim = Aer.get_backend('qasm_simulator')\n",
    "job_sim = execute(qc,backend_sim,shots=1024)\n",
    "result_sim = job_sim.result()\n",
    "counts = result_sim.get_counts(qc)\n",
    "\n",
    "# if Bob undid all of Alice's steps correctly, the final state of his qubit is |0>\n",
    "print(counts)\n",
    "\n"
   ]
  },
  {
   "cell_type": "markdown",
   "metadata": {},
   "source": [
    "So the final state on Bob's qubit is |0>, as we expected in undoing all of Alice preparation steps."
   ]
  }
 ],
 "metadata": {
  "kernelspec": {
   "display_name": "Python 3",
   "language": "python",
   "name": "python3"
  },
  "language_info": {
   "codemirror_mode": {
    "name": "ipython",
    "version": 3
   },
   "file_extension": ".py",
   "mimetype": "text/x-python",
   "name": "python",
   "nbconvert_exporter": "python",
   "pygments_lexer": "ipython3",
   "version": "3.7.4"
  }
 },
 "nbformat": 4,
 "nbformat_minor": 2
}
