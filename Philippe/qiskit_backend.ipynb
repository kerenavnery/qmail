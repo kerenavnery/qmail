{
 "cells": [
  {
   "cell_type": "code",
   "execution_count": 1,
   "metadata": {},
   "outputs": [],
   "source": [
    "from qiskit import *\n",
    "from qiskit.quantum_info import Statevector\n"
   ]
  },
  {
   "cell_type": "code",
   "execution_count": 33,
   "metadata": {},
   "outputs": [],
   "source": [
    "class Channel:    \n",
    "    def __init__(self,slave_offset=0):\n",
    "        self._state_vector = None\n",
    "        self._arr_qubits = None\n",
    "        self._basis_gates = ['u1', 'u2', 'u3', 'cx','x','y','H','z']\n",
    "        self._master = True\n",
    "        self._offset = 0\n",
    "        self._slave_offset = slave_offset\n",
    "        \n",
    "    def send(self,circuit,arr_qubits):\n",
    "        self._state_vector = Statevector.from_instruction(circuit)  \n",
    "        self._arr_qubits = arr_qubits\n",
    "        \n",
    "        ## TODO: TCP THINGS\n",
    "        return self\n",
    "        \n",
    "    def receive(self,circuit,recieve_channel):  ## TODO: remove recieve as an input\n",
    "        #TODO: TCP things\n",
    "        #recieve_channel = TCP_STUFF\n",
    "        self._slave_offset = recieve_channel._slave_offset\n",
    "        if(recieve_channel._master):\n",
    "            self._master = False\n",
    "            self._offset = self._slave_offset\n",
    "        \n",
    "        new_circuit = QuantumCircuit(len(recieve_channel._state_vector.dims()))\n",
    "        new_circuit.initialize(recieve_channel._state_vector.data, range(len(recieve_channel._state_vector.dims())))\n",
    "        new_circuit = transpile(new_circuit, basis_gates=self._basis_gates)\n",
    "        return new_circuit, self._offset   "
   ]
  },
  {
   "cell_type": "code",
   "execution_count": 34,
   "metadata": {},
   "outputs": [
    {
     "data": {
      "text/html": [
       "<pre style=\"word-wrap: normal;white-space: pre;background: #fff0;line-height: 1.1;font-family: &quot;Courier New&quot;,Courier,monospace\">        ┌───┐\n",
       "q_0: |0>┤ H ├\n",
       "        └───┘\n",
       "q_1: |0>─────\n",
       "             \n",
       "q_2: |0>─────\n",
       "             </pre>"
      ],
      "text/plain": [
       "<qiskit.visualization.text.TextDrawing at 0x7f8b0d44f990>"
      ]
     },
     "execution_count": 34,
     "metadata": {},
     "output_type": "execute_result"
    }
   ],
   "source": [
    "\n",
    "n_master = 2\n",
    "n_slave = 1\n",
    "master_offset = 0\n",
    "slave_offset = n_master\n",
    "\n",
    "\n",
    "\n",
    "circ = QuantumCircuit(n_master + n_slave)\n",
    "\n",
    "\n",
    "\n",
    "channel = Channel(slave_offset)\n",
    "\n",
    "## Master\n",
    "circ.h(0 + channel._offset)\n",
    "#circ.cx(0 + channel._offset, 1  + channel._offset)\n",
    "#irc.h(1 + channel._offset)\n",
    "\n",
    "\n",
    "to_tpc = channel.send(circ,[1])  ## TODO: remove\n",
    "circ.draw()"
   ]
  },
  {
   "cell_type": "code",
   "execution_count": 35,
   "metadata": {},
   "outputs": [
    {
     "data": {
      "text/html": [
       "<pre style=\"word-wrap: normal;white-space: pre;background: #fff0;line-height: 1.1;font-family: &quot;Courier New&quot;,Courier,monospace\">        ┌───┐┌──────────────┐┌───┐┌──────────────┐┌───┐┌───┐┌───┐»\n",
       "q_0: |0>┤ X ├┤ U3(pi/8,0,0) ├┤ X ├┤ U3(pi/8,0,0) ├┤ X ├┤ X ├┤ X ├»\n",
       "        └─┬─┘└──────────────┘└─┬─┘└──────────────┘└─┬─┘└─┬─┘└─┬─┘»\n",
       "q_1: |0>──┼────────────────────■────────────────────■────┼────■──»\n",
       "          │                                              │       »\n",
       "q_2: |0>──■──────────────────────────────────────────────■───────»\n",
       "                                                                 »\n",
       "«     ┌──────────────┐┌───┐┌──────────────┐\n",
       "«q_0: ┤ U3(pi/8,0,0) ├┤ X ├┤ U3(pi/8,0,0) ├\n",
       "«     └──────────────┘└─┬─┘└──────────────┘\n",
       "«q_1: ──────────────────■──────────────────\n",
       "«                                          \n",
       "«q_2: ─────────────────────────────────────\n",
       "«                                          </pre>"
      ],
      "text/plain": [
       "<qiskit.visualization.text.TextDrawing at 0x7f8b0d493610>"
      ]
     },
     "execution_count": 35,
     "metadata": {},
     "output_type": "execute_result"
    }
   ],
   "source": [
    "#Bob Part\n",
    "circ_bob = QuantumCircuit(3)\n",
    "\n",
    "bob_channel = Channel()\n",
    "circ_bob, offset = bob_channel.receive(circ_bob,to_tpc)\n",
    "circ_bob.draw()"
   ]
  },
  {
   "cell_type": "code",
   "execution_count": 11,
   "metadata": {},
   "outputs": [],
   "source": [
    "# Initialize circ-2 in state psi (using transpile to remove reset)\n",
    "#circ2 = QuantumCircuit(2)\n",
    "#circ2.initialize(psi1.data, [0, 1])\n",
    "#circ2 = transpile(circ2, basis_gates=basis_gates)\n",
    "#circ2.draw()"
   ]
  },
  {
   "cell_type": "code",
   "execution_count": 6,
   "metadata": {},
   "outputs": [
    {
     "data": {
      "text/html": [
       "<pre style=\"word-wrap: normal;white-space: pre;background: #fff0;line-height: 1.1;font-family: &quot;Courier New&quot;,Courier,monospace\">                                                                    »\n",
       "q_0: |0>────────────────────────────────────────────────────────────»\n",
       "                     ┌───┐┌──────────────┐┌───┐┌──────────────┐┌───┐»\n",
       "q_1: |0>─────────────┤ X ├┤ U3(pi/4,0,0) ├┤ X ├┤ U3(pi/4,0,0) ├┤ X ├»\n",
       "        ┌───────────┐└─┬─┘└──────────────┘└─┬─┘└──────────────┘└─┬─┘»\n",
       "q_2: |0>┤ U1(-pi/4) ├──■────────────────────■────────────────────■──»\n",
       "        └───────────┘                                               »\n",
       "«                      ┌───┐            ┌──────────────┐┌───┐┌──────────────┐»\n",
       "«q_0: ─────────────────┤ X ├────────────┤ U3(pi/4,0,0) ├┤ X ├┤ U3(pi/4,0,0) ├»\n",
       "«     ┌──────────┐┌───┐└─┬─┘┌──────────┐└──────────────┘└─┬─┘└──────────────┘»\n",
       "«q_1: ┤ U1(pi/4) ├┤ X ├──┼──┤ U1(pi/4) ├──────────────────┼──────────────────»\n",
       "«     └──────────┘└─┬─┘  │  └──────────┘                  │                  »\n",
       "«q_2: ──────────────■────■────────────────────────────────■──────────────────»\n",
       "«                                                                            »\n",
       "«     ┌───┐┌──────────┐┌───┐┌───────────┐┌───┐┌───┐┌───┐┌───────────┐┌───┐»\n",
       "«q_0: ┤ X ├┤ U1(pi/4) ├┤ X ├┤ U1(-pi/4) ├┤ X ├┤ X ├┤ X ├┤ U1(-pi/4) ├┤ X ├»\n",
       "«     └─┬─┘└──────────┘└─┬─┘└───────────┘└─┬─┘└─┬─┘└─┬─┘└───────────┘└─┬─┘»\n",
       "«q_1: ──┼────────────────■─────────────────■────┼────■─────────────────■──»\n",
       "«       │                                       │  ┌───┐                  »\n",
       "«q_2: ──■───────────────────────────────────────■──┤ H ├──────────────────»\n",
       "«                                                  └───┘                  »\n",
       "«     ┌──────────┐\n",
       "«q_0: ┤ U1(pi/4) ├\n",
       "«     └──────────┘\n",
       "«q_1: ────────────\n",
       "«                 \n",
       "«q_2: ────────────\n",
       "«                 </pre>"
      ],
      "text/plain": [
       "<qiskit.visualization.text.TextDrawing at 0x7f8b0d55a610>"
      ]
     },
     "execution_count": 6,
     "metadata": {},
     "output_type": "execute_result"
    }
   ],
   "source": [
    "# Add new gates to circ2\n",
    "circ_bob.h(0+offset)\n",
    "#circ_bob.cx(0+offset, 1+offset)\n",
    "#psi2 = Statevector.from_instruction(circ_bob)\n",
    "\n",
    "to_tpc = bob_channel.send(circ_bob,[1])\n",
    "circ_bob.draw()"
   ]
  },
  {
   "cell_type": "code",
   "execution_count": 7,
   "metadata": {},
   "outputs": [
    {
     "data": {
      "text/html": [
       "<pre style=\"word-wrap: normal;white-space: pre;background: #fff0;line-height: 1.1;font-family: &quot;Courier New&quot;,Courier,monospace\">        ┌──────────────┐┌───┐┌───────────┐┌───┐┌──────────┐\n",
       "q_0: |0>┤ U3(pi/2,0,0) ├┤ X ├┤ U1(-pi/2) ├┤ X ├┤ U1(pi/2) ├\n",
       "        └┬────────────┬┘└─┬─┘└───────────┘└─┬─┘└──────────┘\n",
       "q_1: |0>─┤ U2(pi/2,0) ├───■─────────────────■──────────────\n",
       "        ┌┴────────────┴┐                                   \n",
       "q_2: |0>┤ U3(pi/2,0,0) ├───────────────────────────────────\n",
       "        └──────────────┘                                   </pre>"
      ],
      "text/plain": [
       "<qiskit.visualization.text.TextDrawing at 0x7f8b0d561fd0>"
      ]
     },
     "execution_count": 7,
     "metadata": {},
     "output_type": "execute_result"
    }
   ],
   "source": [
    "#Alice Part\n",
    "circ_alice = QuantumCircuit(3)\n",
    "\n",
    "alice_channel = Channel()\n",
    "circ_alice , offset = alice_channel.receive(circ_alice,to_tpc)\n",
    "circ_alice.draw()"
   ]
  },
  {
   "cell_type": "code",
   "execution_count": 8,
   "metadata": {},
   "outputs": [
    {
     "data": {
      "text/html": [
       "<pre style=\"word-wrap: normal;white-space: pre;background: #fff0;line-height: 1.1;font-family: &quot;Courier New&quot;,Courier,monospace\">        ┌──────────────┐┌───┐┌───────────┐┌───┐┌──────────┐\n",
       "q_0: |0>┤ U3(pi/2,0,0) ├┤ X ├┤ U1(-pi/2) ├┤ X ├┤ U1(pi/2) ├\n",
       "        └┬────────────┬┘└─┬─┘└───────────┘└─┬─┘└──────────┘\n",
       "q_1: |0>─┤ U2(pi/2,0) ├───■─────────────────■──────────────\n",
       "        ┌┴────────────┴┐                                   \n",
       "q_2: |0>┤ U3(pi/2,0,0) ├───────────────────────────────────\n",
       "        └──────────────┘                                   </pre>"
      ],
      "text/plain": [
       "<qiskit.visualization.text.TextDrawing at 0x7f8b0d561fd0>"
      ]
     },
     "execution_count": 8,
     "metadata": {},
     "output_type": "execute_result"
    }
   ],
   "source": [
    "_"
   ]
  }
 ],
 "metadata": {
  "kernelspec": {
   "display_name": "Python 3",
   "language": "python",
   "name": "python3"
  },
  "language_info": {
   "codemirror_mode": {
    "name": "ipython",
    "version": 3
   },
   "file_extension": ".py",
   "mimetype": "text/x-python",
   "name": "python",
   "nbconvert_exporter": "python",
   "pygments_lexer": "ipython3",
   "version": "3.7.4"
  }
 },
 "nbformat": 4,
 "nbformat_minor": 2
}
