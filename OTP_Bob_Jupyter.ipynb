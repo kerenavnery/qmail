{
 "cells": [
  {
   "cell_type": "markdown",
   "metadata": {},
   "source": [
    "<h1>qmail -&nbsp; A Quantum Mail Client</h1>\n",
    "<h3 style=\"text-align: left;\">This is<em> Bob's</em> or Eve's side of the communication protocol.</h3>\n",
    "<h4><span style=\"color: #ff0000;\">It has to be executed first.</span></h4>\n",
    "<p style=\"text-align: left;\">This Quantum Mail Client could send messages from Alice to Bob encrypted in qubits. Additionally, it allows to simulate an evil third party, Eve. The code simulate what message Eve would recieve if she does not know the key. The required functions are implemented in the library Protocols.</p>"
   ]
  },
  {
   "cell_type": "markdown",
   "metadata": {},
   "source": [
    "<h3 style=\"text-align: left;\">Importing the required libraries</h3>"
   ]
  },
  {
   "cell_type": "code",
   "execution_count": 1,
   "metadata": {},
   "outputs": [],
   "source": [
    "import Protocols"
   ]
  },
  {
   "cell_type": "markdown",
   "metadata": {},
   "source": [
    "<h3 style=\"text-align: left;\">Settings for the communication</h3>\n",
    "The following lines contain the settings for the communication. Here ALICE_ADDR should be replaced to the physical IP adress of Alice computer. Similarly, BOB_ADDR needs to be replaced by his physical IP adress.\n",
    "The Ports could be choosen arbitrarily, but the ports need to be free. Hence, the kernel needs to be restarted for every run."
   ]
  },
  {
   "cell_type": "code",
   "execution_count": 2,
   "metadata": {},
   "outputs": [],
   "source": [
    "ALICE_ADDR = 'localhost'\n",
    "BOB_ADDR = 'localhost'\n",
    "ALICE_PORT = 5005\n",
    "BOB_PORT = 5006"
   ]
  },
  {
   "cell_type": "markdown",
   "metadata": {},
   "source": [
    "<h3 style=\"text-align: left;\">Main function</h3>\n",
    "\n",
    "This is the main function, which requires the above specified settings. The adversary variable denotes whether Eve or Bob is listening. It is true for Eve and False for Bob."
   ]
  },
  {
   "cell_type": "code",
   "execution_count": 3,
   "metadata": {},
   "outputs": [],
   "source": [
    "def main():\n",
    "\n",
    "  Protocols.receive_a_qmail(BOB_PORT, ALICE_ADDR, ALICE_PORT, adversary=False)\n",
    "\n",
    "  pass"
   ]
  },
  {
   "cell_type": "code",
   "execution_count": 4,
   "metadata": {},
   "outputs": [
    {
     "name": "stdout",
     "output_type": "stream",
     "text": [
      "Running on port = 5016\n",
      "I am Bob I received:  {'x': '1110010111001110100111001010011110000000110111111101010001110100100010001110111000000011100101110011010', 'z': '10101001000010101000100011111111010100010000110001000011101111010110101001011100010110000001100111010101'}\n",
      "Running on port = 5006\n",
      "Wait to receive\n",
      "Bob measures 0100\n",
      "Wait to receive\n",
      "Bob measures 1000\n",
      "Wait to receive\n",
      "Bob measures 0110\n",
      "Wait to receive\n",
      "Bob measures 0101\n",
      "Wait to receive\n",
      "Bob measures 0110\n",
      "Wait to receive\n",
      "Bob measures 1100\n",
      "Wait to receive\n",
      "Bob measures 0110\n",
      "Wait to receive\n",
      "Bob measures 1100\n",
      "Wait to receive\n",
      "Bob measures 0110\n",
      "Wait to receive\n",
      "Bob measures 1111\n",
      "Wait to receive\n",
      "Bob measures 0010\n",
      "Wait to receive\n",
      "Bob measures 0000\n",
      "Wait to receive\n",
      "Bob measures 0101\n",
      "Wait to receive\n",
      "Bob measures 0001\n",
      "Wait to receive\n",
      "Bob measures 0110\n",
      "Wait to receive\n",
      "Bob measures 1001\n",
      "Wait to receive\n",
      "Bob measures 0111\n",
      "Wait to receive\n",
      "Bob measures 0011\n",
      "Wait to receive\n",
      "Bob measures 0110\n",
      "Wait to receive\n",
      "Bob measures 1011\n",
      "Wait to receive\n",
      "Bob measures 0110\n",
      "Wait to receive\n",
      "Bob measures 1001\n",
      "Wait to receive\n",
      "Bob measures 0111\n",
      "Wait to receive\n",
      "Bob measures 0100\n",
      "Wait to receive\n",
      "Bob measures 0010\n",
      "Wait to receive\n",
      "Bob measures 0001\n",
      "Bobs message Hello Qiskit!\n"
     ]
    }
   ],
   "source": [
    "if __name__ == \"__main__\":\n",
    "  main()"
   ]
  }
 ],
 "metadata": {
  "kernelspec": {
   "display_name": "Python 3",
   "language": "python",
   "name": "python3"
  },
  "language_info": {
   "codemirror_mode": {
    "name": "ipython",
    "version": 3
   },
   "file_extension": ".py",
   "mimetype": "text/x-python",
   "name": "python",
   "nbconvert_exporter": "python",
   "pygments_lexer": "ipython3",
   "version": "3.7.4"
  }
 },
 "nbformat": 4,
 "nbformat_minor": 2
}
